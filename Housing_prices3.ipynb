{
 "cells": [
  {
   "cell_type": "markdown",
   "metadata": {},
   "source": [
    "## Predicting Housing Prices Using Linear Regression"
   ]
  },
  {
   "cell_type": "markdown",
   "metadata": {},
   "source": [
    "1 Libraries and Packages"
   ]
  },
  {
   "cell_type": "markdown",
   "metadata": {},
   "source": [
    "Libraries are used in this notebook for visualization ,scaling, onehotencoding and so on but not running Linear Regression"
   ]
  },
  {
   "cell_type": "code",
   "execution_count": 563,
   "metadata": {},
   "outputs": [],
   "source": [
    "# Importing all necessary libraries\n",
    "\n",
    "import numpy as np\n",
    "from matplotlib import pyplot as plt\n",
    "import pandas as pd\n",
    "import seaborn as sns\n",
    "from scipy import stats\n",
    "from scipy.stats import norm, skew\n",
    "from scipy.special import boxcox1p\n",
    "from scipy.stats import boxcox_normmax\n",
    "from sklearn.preprocessing import StandardScaler, OneHotEncoder\n",
    "%matplotlib inline\n",
    "\n",
    "import warnings\n",
    "warnings.filterwarnings('ignore')"
   ]
  },
  {
   "cell_type": "code",
   "execution_count": 565,
   "metadata": {},
   "outputs": [
    {
     "name": "stdout",
     "output_type": "stream",
     "text": [
      "the shape of training data is: (1460, 81)\n",
      "the shape of testing data is: (1459, 80)\n"
     ]
    }
   ],
   "source": [
    "# Reading the data files\n",
    "\n",
    "train = pd.read_csv(\"train.csv\")\n",
    "test = pd.read_csv(\"test.csv\")\n",
    "\n",
    "# copying\n",
    "data_train = train\n",
    "data_test = test\n",
    "\n",
    "print(\"the shape of training data is:\", data_train.shape)\n",
    "print(\"the shape of testing data is:\", data_test.shape)"
   ]
  },
  {
   "cell_type": "code",
   "execution_count": 566,
   "metadata": {},
   "outputs": [
    {
     "name": "stdout",
     "output_type": "stream",
     "text": [
      "the shape of target is: (1460,)\n",
      "the shape of training data is: (1460, 80)\n",
      "the shape of testing data is: (1459, 80)\n"
     ]
    }
   ],
   "source": [
    "# Concatenate both data sets\n",
    "\n",
    "train_y = data_train['SalePrice']\n",
    "data_train = data_train.drop('SalePrice', axis = 1) # dropping the target variable from concatenated dataset\n",
    "\n",
    "print(\"the shape of target is:\", train_y.shape)\n",
    "print(\"the shape of training data is:\", data_train.shape)\n",
    "print(\"the shape of testing data is:\", data_test.shape)\n"
   ]
  },
  {
   "cell_type": "markdown",
   "metadata": {},
   "source": [
    "# Exploratory Data Analysis"
   ]
  },
  {
   "cell_type": "markdown",
   "metadata": {},
   "source": [
    "2.1 Investigating Variables"
   ]
  },
  {
   "cell_type": "code",
   "execution_count": 471,
   "metadata": {},
   "outputs": [
    {
     "data": {
      "text/html": [
       "<div>\n",
       "<style scoped>\n",
       "    .dataframe tbody tr th:only-of-type {\n",
       "        vertical-align: middle;\n",
       "    }\n",
       "\n",
       "    .dataframe tbody tr th {\n",
       "        vertical-align: top;\n",
       "    }\n",
       "\n",
       "    .dataframe thead th {\n",
       "        text-align: right;\n",
       "    }\n",
       "</style>\n",
       "<table border=\"1\" class=\"dataframe\">\n",
       "  <thead>\n",
       "    <tr style=\"text-align: right;\">\n",
       "      <th></th>\n",
       "      <th>Id</th>\n",
       "      <th>MSSubClass</th>\n",
       "      <th>MSZoning</th>\n",
       "      <th>LotFrontage</th>\n",
       "      <th>LotArea</th>\n",
       "      <th>Street</th>\n",
       "      <th>Alley</th>\n",
       "      <th>LotShape</th>\n",
       "      <th>LandContour</th>\n",
       "      <th>Utilities</th>\n",
       "      <th>...</th>\n",
       "      <th>ScreenPorch</th>\n",
       "      <th>PoolArea</th>\n",
       "      <th>PoolQC</th>\n",
       "      <th>Fence</th>\n",
       "      <th>MiscFeature</th>\n",
       "      <th>MiscVal</th>\n",
       "      <th>MoSold</th>\n",
       "      <th>YrSold</th>\n",
       "      <th>SaleType</th>\n",
       "      <th>SaleCondition</th>\n",
       "    </tr>\n",
       "  </thead>\n",
       "  <tbody>\n",
       "    <tr>\n",
       "      <th>0</th>\n",
       "      <td>1</td>\n",
       "      <td>60</td>\n",
       "      <td>RL</td>\n",
       "      <td>65.0</td>\n",
       "      <td>8450</td>\n",
       "      <td>Pave</td>\n",
       "      <td>NaN</td>\n",
       "      <td>Reg</td>\n",
       "      <td>Lvl</td>\n",
       "      <td>AllPub</td>\n",
       "      <td>...</td>\n",
       "      <td>0</td>\n",
       "      <td>0</td>\n",
       "      <td>NaN</td>\n",
       "      <td>NaN</td>\n",
       "      <td>NaN</td>\n",
       "      <td>0</td>\n",
       "      <td>2</td>\n",
       "      <td>2008</td>\n",
       "      <td>WD</td>\n",
       "      <td>Normal</td>\n",
       "    </tr>\n",
       "    <tr>\n",
       "      <th>1</th>\n",
       "      <td>2</td>\n",
       "      <td>20</td>\n",
       "      <td>RL</td>\n",
       "      <td>80.0</td>\n",
       "      <td>9600</td>\n",
       "      <td>Pave</td>\n",
       "      <td>NaN</td>\n",
       "      <td>Reg</td>\n",
       "      <td>Lvl</td>\n",
       "      <td>AllPub</td>\n",
       "      <td>...</td>\n",
       "      <td>0</td>\n",
       "      <td>0</td>\n",
       "      <td>NaN</td>\n",
       "      <td>NaN</td>\n",
       "      <td>NaN</td>\n",
       "      <td>0</td>\n",
       "      <td>5</td>\n",
       "      <td>2007</td>\n",
       "      <td>WD</td>\n",
       "      <td>Normal</td>\n",
       "    </tr>\n",
       "    <tr>\n",
       "      <th>2</th>\n",
       "      <td>3</td>\n",
       "      <td>60</td>\n",
       "      <td>RL</td>\n",
       "      <td>68.0</td>\n",
       "      <td>11250</td>\n",
       "      <td>Pave</td>\n",
       "      <td>NaN</td>\n",
       "      <td>IR1</td>\n",
       "      <td>Lvl</td>\n",
       "      <td>AllPub</td>\n",
       "      <td>...</td>\n",
       "      <td>0</td>\n",
       "      <td>0</td>\n",
       "      <td>NaN</td>\n",
       "      <td>NaN</td>\n",
       "      <td>NaN</td>\n",
       "      <td>0</td>\n",
       "      <td>9</td>\n",
       "      <td>2008</td>\n",
       "      <td>WD</td>\n",
       "      <td>Normal</td>\n",
       "    </tr>\n",
       "    <tr>\n",
       "      <th>3</th>\n",
       "      <td>4</td>\n",
       "      <td>70</td>\n",
       "      <td>RL</td>\n",
       "      <td>60.0</td>\n",
       "      <td>9550</td>\n",
       "      <td>Pave</td>\n",
       "      <td>NaN</td>\n",
       "      <td>IR1</td>\n",
       "      <td>Lvl</td>\n",
       "      <td>AllPub</td>\n",
       "      <td>...</td>\n",
       "      <td>0</td>\n",
       "      <td>0</td>\n",
       "      <td>NaN</td>\n",
       "      <td>NaN</td>\n",
       "      <td>NaN</td>\n",
       "      <td>0</td>\n",
       "      <td>2</td>\n",
       "      <td>2006</td>\n",
       "      <td>WD</td>\n",
       "      <td>Abnorml</td>\n",
       "    </tr>\n",
       "    <tr>\n",
       "      <th>4</th>\n",
       "      <td>5</td>\n",
       "      <td>60</td>\n",
       "      <td>RL</td>\n",
       "      <td>84.0</td>\n",
       "      <td>14260</td>\n",
       "      <td>Pave</td>\n",
       "      <td>NaN</td>\n",
       "      <td>IR1</td>\n",
       "      <td>Lvl</td>\n",
       "      <td>AllPub</td>\n",
       "      <td>...</td>\n",
       "      <td>0</td>\n",
       "      <td>0</td>\n",
       "      <td>NaN</td>\n",
       "      <td>NaN</td>\n",
       "      <td>NaN</td>\n",
       "      <td>0</td>\n",
       "      <td>12</td>\n",
       "      <td>2008</td>\n",
       "      <td>WD</td>\n",
       "      <td>Normal</td>\n",
       "    </tr>\n",
       "  </tbody>\n",
       "</table>\n",
       "<p>5 rows × 80 columns</p>\n",
       "</div>"
      ],
      "text/plain": [
       "   Id  MSSubClass MSZoning  LotFrontage  LotArea Street Alley LotShape  \\\n",
       "0   1          60       RL         65.0     8450   Pave   NaN      Reg   \n",
       "1   2          20       RL         80.0     9600   Pave   NaN      Reg   \n",
       "2   3          60       RL         68.0    11250   Pave   NaN      IR1   \n",
       "3   4          70       RL         60.0     9550   Pave   NaN      IR1   \n",
       "4   5          60       RL         84.0    14260   Pave   NaN      IR1   \n",
       "\n",
       "  LandContour Utilities  ... ScreenPorch PoolArea PoolQC Fence MiscFeature  \\\n",
       "0         Lvl    AllPub  ...           0        0    NaN   NaN         NaN   \n",
       "1         Lvl    AllPub  ...           0        0    NaN   NaN         NaN   \n",
       "2         Lvl    AllPub  ...           0        0    NaN   NaN         NaN   \n",
       "3         Lvl    AllPub  ...           0        0    NaN   NaN         NaN   \n",
       "4         Lvl    AllPub  ...           0        0    NaN   NaN         NaN   \n",
       "\n",
       "  MiscVal MoSold  YrSold  SaleType  SaleCondition  \n",
       "0       0      2    2008        WD         Normal  \n",
       "1       0      5    2007        WD         Normal  \n",
       "2       0      9    2008        WD         Normal  \n",
       "3       0      2    2006        WD        Abnorml  \n",
       "4       0     12    2008        WD         Normal  \n",
       "\n",
       "[5 rows x 80 columns]"
      ]
     },
     "execution_count": 471,
     "metadata": {},
     "output_type": "execute_result"
    }
   ],
   "source": [
    "# basic eda\n",
    "\n",
    "data_train.head()"
   ]
  },
  {
   "cell_type": "markdown",
   "metadata": {},
   "source": [
    "We have a total of 80 features"
   ]
  },
  {
   "cell_type": "code",
   "execution_count": 472,
   "metadata": {},
   "outputs": [
    {
     "data": {
      "text/plain": [
       "object     43\n",
       "int64      34\n",
       "float64     3\n",
       "dtype: int64"
      ]
     },
     "execution_count": 472,
     "metadata": {},
     "output_type": "execute_result"
    }
   ],
   "source": [
    "# Checking the count of datatypes\n",
    "\n",
    "data_train.dtypes.value_counts()"
   ]
  },
  {
   "cell_type": "markdown",
   "metadata": {},
   "source": [
    "We have 43 categorical and 37 numerical variables/features"
   ]
  },
  {
   "cell_type": "code",
   "execution_count": 567,
   "metadata": {},
   "outputs": [
    {
     "data": {
      "text/plain": [
       "{dtype('int64'): Index(['Id', 'MSSubClass', 'LotArea', 'OverallQual', 'OverallCond',\n",
       "        'YearBuilt', 'YearRemodAdd', 'BsmtFinSF1', 'BsmtFinSF2', 'BsmtUnfSF',\n",
       "        'TotalBsmtSF', '1stFlrSF', '2ndFlrSF', 'LowQualFinSF', 'GrLivArea',\n",
       "        'BsmtFullBath', 'BsmtHalfBath', 'FullBath', 'HalfBath', 'BedroomAbvGr',\n",
       "        'KitchenAbvGr', 'TotRmsAbvGrd', 'Fireplaces', 'GarageCars',\n",
       "        'GarageArea', 'WoodDeckSF', 'OpenPorchSF', 'EnclosedPorch', '3SsnPorch',\n",
       "        'ScreenPorch', 'PoolArea', 'MiscVal', 'MoSold', 'YrSold'],\n",
       "       dtype='object'),\n",
       " dtype('float64'): Index(['LotFrontage', 'MasVnrArea', 'GarageYrBlt'], dtype='object'),\n",
       " dtype('O'): Index(['MSZoning', 'Street', 'Alley', 'LotShape', 'LandContour', 'Utilities',\n",
       "        'LotConfig', 'LandSlope', 'Neighborhood', 'Condition1', 'Condition2',\n",
       "        'BldgType', 'HouseStyle', 'RoofStyle', 'RoofMatl', 'Exterior1st',\n",
       "        'Exterior2nd', 'MasVnrType', 'ExterQual', 'ExterCond', 'Foundation',\n",
       "        'BsmtQual', 'BsmtCond', 'BsmtExposure', 'BsmtFinType1', 'BsmtFinType2',\n",
       "        'Heating', 'HeatingQC', 'CentralAir', 'Electrical', 'KitchenQual',\n",
       "        'Functional', 'FireplaceQu', 'GarageType', 'GarageFinish', 'GarageQual',\n",
       "        'GarageCond', 'PavedDrive', 'PoolQC', 'Fence', 'MiscFeature',\n",
       "        'SaleType', 'SaleCondition'],\n",
       "       dtype='object')}"
      ]
     },
     "execution_count": 567,
     "metadata": {},
     "output_type": "execute_result"
    }
   ],
   "source": [
    "# checking which features are categorical and numerical\n",
    "\n",
    "data_train.columns.to_series().groupby(data_train.dtypes).groups"
   ]
  },
  {
   "cell_type": "markdown",
   "metadata": {},
   "source": [
    "2.2 Correlations"
   ]
  },
  {
   "cell_type": "code",
   "execution_count": 474,
   "metadata": {},
   "outputs": [
    {
     "data": {
      "image/png": "[encoded data removed]",
      "text/plain": [
       "<Figure size 1080x720 with 2 Axes>"
      ]
     },
     "metadata": {
      "needs_background": "light"
     },
     "output_type": "display_data"
    }
   ],
   "source": [
    "# checking the correlations among variables\n",
    "corr = train.corr(method='spearman')\n",
    "mask = np.zeros_like(corr)\n",
    "mask[np.triu_indices_from(mask)] = True\n",
    "\n",
    "# Heatmap\n",
    "plt.figure(figsize=(15, 10))\n",
    "sns.heatmap(corr,vmax=.5,mask=mask, fmt='.2f',linewidths=.2);\n"
   ]
  },
  {
   "cell_type": "markdown",
   "metadata": {},
   "source": [
    "Some Variables are highly correlated with the target variable 'SalePrice' are 'OverallQual','YearBuilt','TotalBsmtSF','GrLivArea', etc. Other observation we can infer from the heatmap is that there is some evidence of multicollinearity"
   ]
  },
  {
   "cell_type": "markdown",
   "metadata": {},
   "source": [
    "2.3 Target Variable"
   ]
  },
  {
   "cell_type": "code",
   "execution_count": 475,
   "metadata": {},
   "outputs": [
    {
     "name": "stdout",
     "output_type": "stream",
     "text": [
      "Skewness: 1.882876\n",
      "\n",
      " mu = 180921.20 and sigma = 79415.29\n",
      "\n"
     ]
    },
    {
     "data": {
      "image/png": "[encoded data removed]",
      "text/plain": [
       "<Figure size 1080x360 with 2 Axes>"
      ]
     },
     "metadata": {
      "needs_background": "light"
     },
     "output_type": "display_data"
    }
   ],
   "source": [
    "# Studying the target variable 'SalePrice'\n",
    "\n",
    "# Plotting histogram and probability\n",
    "\n",
    "fig = plt.figure(figsize=(15,5))\n",
    "plt.subplot(1,2,1)\n",
    "sns.distplot(train['SalePrice'] , fit=norm);\n",
    "(mu, sigma) = norm.fit(train['SalePrice'])\n",
    "print(\"Skewness: %f\" % train_y.skew())          # checcking the skewness\n",
    "print( '\\n mu = {:.2f} and sigma = {:.2f}\\n'.format(mu, sigma))\n",
    "plt.legend(['Normal dist. ($\\mu=$ {:.2f} and $\\sigma=$ {:.2f} )'.format(mu, sigma)], loc='best')\n",
    "plt.ylabel('Frequency')\n",
    "plt.title('SalePrice distribution')\n",
    "plt.subplot(1,2,2)\n",
    "res = stats.probplot(train['SalePrice'], plot=plt)\n"
   ]
  },
  {
   "cell_type": "markdown",
   "metadata": {},
   "source": [
    "The target variable 'SalePrice' is positively skewed. We will address this issue in later sections."
   ]
  },
  {
   "cell_type": "code",
   "execution_count": 569,
   "metadata": {},
   "outputs": [
    {
     "data": {
      "image/png": "[encoded data removed]",
      "text/plain": [
       "<Figure size 432x288 with 1 Axes>"
      ]
     },
     "metadata": {
      "needs_background": "light"
     },
     "output_type": "display_data"
    }
   ],
   "source": [
    "# displaying a Boxplot\n",
    "\n",
    "#  checking for outliers\n",
    "sns.boxplot(y = train_y)\n",
    "plt.ylabel('SalePrice (Log)')\n",
    "plt.title('Price');"
   ]
  },
  {
   "cell_type": "markdown",
   "metadata": {},
   "source": [
    "There are a few outliers present in the dataset"
   ]
  },
  {
   "cell_type": "markdown",
   "metadata": {},
   "source": [
    "# Data Preparation "
   ]
  },
  {
   "cell_type": "markdown",
   "metadata": {},
   "source": [
    "In this section, we will take all necessary steps required to lead to training the model"
   ]
  },
  {
   "cell_type": "code",
   "execution_count": 570,
   "metadata": {},
   "outputs": [
    {
     "name": "stdout",
     "output_type": "stream",
     "text": [
      "Shape of concatenated data: (2919, 81)\n"
     ]
    }
   ],
   "source": [
    "# Using a copy of dataset for preparation\n",
    "\n",
    "data_train_pipeline = data_train.copy()\n",
    "data_test_pipeline = data_test.copy()\n",
    "\n",
    "# Concatenating both datasets\n",
    "data_train_pipeline[\"Dataset\"] = \"Train\"\n",
    "data_test_pipeline[\"Dataset\"] = \"Test\"\n",
    "\n",
    "data_all = pd.concat([data_train_pipeline, data_test_pipeline], sort=False)\n",
    "data_all = data_all.reset_index(drop=True) # reset index\n",
    "print(\"Shape of concatenated data: {}\".format(data_all.shape))"
   ]
  },
  {
   "cell_type": "markdown",
   "metadata": {},
   "source": [
    "3.1 Missing Data"
   ]
  },
  {
   "cell_type": "code",
   "execution_count": 571,
   "metadata": {},
   "outputs": [
    {
     "data": {
      "text/html": [
       "<div>\n",
       "<style scoped>\n",
       "    .dataframe tbody tr th:only-of-type {\n",
       "        vertical-align: middle;\n",
       "    }\n",
       "\n",
       "    .dataframe tbody tr th {\n",
       "        vertical-align: top;\n",
       "    }\n",
       "\n",
       "    .dataframe thead th {\n",
       "        text-align: right;\n",
       "    }\n",
       "</style>\n",
       "<table border=\"1\" class=\"dataframe\">\n",
       "  <thead>\n",
       "    <tr style=\"text-align: right;\">\n",
       "      <th></th>\n",
       "      <th>Total</th>\n",
       "      <th>Percent</th>\n",
       "    </tr>\n",
       "  </thead>\n",
       "  <tbody>\n",
       "    <tr>\n",
       "      <th>PoolQC</th>\n",
       "      <td>2909</td>\n",
       "      <td>0.996574</td>\n",
       "    </tr>\n",
       "    <tr>\n",
       "      <th>MiscFeature</th>\n",
       "      <td>2814</td>\n",
       "      <td>0.964029</td>\n",
       "    </tr>\n",
       "    <tr>\n",
       "      <th>Alley</th>\n",
       "      <td>2721</td>\n",
       "      <td>0.932169</td>\n",
       "    </tr>\n",
       "    <tr>\n",
       "      <th>Fence</th>\n",
       "      <td>2348</td>\n",
       "      <td>0.804385</td>\n",
       "    </tr>\n",
       "    <tr>\n",
       "      <th>FireplaceQu</th>\n",
       "      <td>1420</td>\n",
       "      <td>0.486468</td>\n",
       "    </tr>\n",
       "    <tr>\n",
       "      <th>...</th>\n",
       "      <td>...</td>\n",
       "      <td>...</td>\n",
       "    </tr>\n",
       "    <tr>\n",
       "      <th>CentralAir</th>\n",
       "      <td>0</td>\n",
       "      <td>0.000000</td>\n",
       "    </tr>\n",
       "    <tr>\n",
       "      <th>SaleCondition</th>\n",
       "      <td>0</td>\n",
       "      <td>0.000000</td>\n",
       "    </tr>\n",
       "    <tr>\n",
       "      <th>Heating</th>\n",
       "      <td>0</td>\n",
       "      <td>0.000000</td>\n",
       "    </tr>\n",
       "    <tr>\n",
       "      <th>Foundation</th>\n",
       "      <td>0</td>\n",
       "      <td>0.000000</td>\n",
       "    </tr>\n",
       "    <tr>\n",
       "      <th>Id</th>\n",
       "      <td>0</td>\n",
       "      <td>0.000000</td>\n",
       "    </tr>\n",
       "  </tbody>\n",
       "</table>\n",
       "<p>81 rows × 2 columns</p>\n",
       "</div>"
      ],
      "text/plain": [
       "               Total   Percent\n",
       "PoolQC          2909  0.996574\n",
       "MiscFeature     2814  0.964029\n",
       "Alley           2721  0.932169\n",
       "Fence           2348  0.804385\n",
       "FireplaceQu     1420  0.486468\n",
       "...              ...       ...\n",
       "CentralAir         0  0.000000\n",
       "SaleCondition      0  0.000000\n",
       "Heating            0  0.000000\n",
       "Foundation         0  0.000000\n",
       "Id                 0  0.000000\n",
       "\n",
       "[81 rows x 2 columns]"
      ]
     },
     "execution_count": 571,
     "metadata": {},
     "output_type": "execute_result"
    }
   ],
   "source": [
    "# Checking number of missing values\n",
    "\n",
    "def missing_values_percentage(df):\n",
    "    total = df.isnull().sum().sort_values(ascending=False)\n",
    "    percent = (df.isnull().sum()/df.isnull().count()).sort_values(ascending=False)\n",
    "    missing_data = pd.concat([total, percent], axis=1, keys=['Total', 'Percent'])\n",
    "    return missing_data\n",
    "\n",
    "missing_values_percentage(data_all)\n"
   ]
  },
  {
   "cell_type": "markdown",
   "metadata": {},
   "source": [
    "We can observe that some features have a high percenatage of missing data. "
   ]
  },
  {
   "cell_type": "code",
   "execution_count": 573,
   "metadata": {},
   "outputs": [
    {
     "name": "stdout",
     "output_type": "stream",
     "text": [
      "the shape of dataset is (2919, 80)\n"
     ]
    }
   ],
   "source": [
    "# defining few pre processing functions\n",
    "\n",
    "# to the unique identifier 'Id'\n",
    "\n",
    "def drop_id(df): # drop uniqueidntifier 'Id'\n",
    "    df_new = df\n",
    "    df_new.drop(['Id'], axis=1, inplace=True)\n",
    "    return df_new\n",
    "\n",
    "# to split numerical and categorical features\n",
    "\n",
    "def split_num_cat(df):\n",
    "    df_new = df\n",
    "    numeric_features = list(df_new.select_dtypes(include=[np.number]).columns.values) #numeric features\n",
    "    categ_features = list(df_new.select_dtypes(include=['object']).columns.values) #categorical features\n",
    "    for col in numeric_features:\n",
    "        df_new[col] = df_new[col].astype(float)     # int to float all numeric\n",
    "    return df_new\n",
    "\n",
    "\n",
    "data_all = drop_id(data_all)\n",
    "data_all = split_num_cat(data_all)\n",
    "\n",
    "print(\"the shape of dataset is {}\".format(data_all.shape))\n"
   ]
  },
  {
   "cell_type": "code",
   "execution_count": 574,
   "metadata": {},
   "outputs": [],
   "source": [
    "# Handling missing values\n",
    "\n",
    "def imputing_missing_data(df):\n",
    "    # imputing categorical features\n",
    "    df_new=df\n",
    "    numeric_features = list(df_new.select_dtypes(include=[np.number]).columns.values) #numeric features\n",
    "    categ_features = list(df_new.select_dtypes(include=['object']).columns.values) #categorical features\n",
    "    df_new[categ_features] = df_new[categ_features].apply(\n",
    "        lambda x: x.fillna(\"None\"), axis=0)  # NaNs in categorical features replaced by \"None\"\n",
    "\n",
    "    # imputing numerical features\n",
    "    for col in ('LotFrontage', 'GarageYrBlt', 'GarageArea', 'GarageCars'): # 4 numerical features replaced with \"0\"\n",
    "        df_new[col].fillna(0.0, inplace=True)\n",
    "        df_new[numeric_features] = df_new[numeric_features].apply(\n",
    "            lambda x: x.fillna(x.median()), axis=0) # NaNs in remaining numerical features replaced by median\n",
    "    return df_new\n",
    "\n",
    "\n",
    "data_all = imputing_missing_data(data_all)"
   ]
  },
  {
   "cell_type": "markdown",
   "metadata": {},
   "source": [
    "3.2 Feature engineering and transformations"
   ]
  },
  {
   "cell_type": "markdown",
   "metadata": {},
   "source": [
    "From our reading and understanding of the features, we try to combine redundant features."
   ]
  },
  {
   "cell_type": "code",
   "execution_count": 575,
   "metadata": {},
   "outputs": [
    {
     "name": "stdout",
     "output_type": "stream",
     "text": [
      "the shape of dataset is:(2919, 90)\n"
     ]
    }
   ],
   "source": [
    "# combining features\n",
    "\n",
    "def combine_features(df):\n",
    "    df_new = df\n",
    "    df_new['TotalSF']=df_new['TotalBsmtSF'] + df_new['1stFlrSF'] + df_new['2ndFlrSF'] # total sq ft\n",
    "    df_new['Total_Bathrooms'] = (df_new['FullBath'] + (0.5 * df_new['HalfBath']) +    # no of bathrooms\n",
    "                                 df_new['BsmtFullBath'] + (0.5 * df_new['BsmtHalfBath'])) \n",
    "    df_new['Total_porch_sf'] = (df_new['OpenPorchSF'] + df_new['3SsnPorch'] +         # total sq ft porch\n",
    "                                  df_new['EnclosedPorch'] + df_new['ScreenPorch'] + df_new['WoodDeckSF'])\n",
    "    df_new['Total_sqr_footage'] = (df_new['BsmtFinSF1'] + df_new['BsmtFinSF2'] + df_new['1stFlrSF'] # total sq ft all\n",
    "                                   + df_new['2ndFlrSF'])\n",
    "    df_new['YrBltAndRemod']=df_new['YearBuilt']+df_new['YearRemodAdd']\n",
    "    \n",
    "    return df_new\n",
    "\n",
    "# creating boolean values for certain variables\n",
    "\n",
    "def boolean_features(df):\n",
    "    df_new = df\n",
    "    df_new['haspool'] = df_new['PoolArea'].apply(lambda x: 1 if x > 0 else 0)\n",
    "    df_new['has2ndfloor'] = df_new['2ndFlrSF'].apply(lambda x: 1 if x > 0 else 0)\n",
    "    df_new['hasgarage'] = df_new['GarageArea'].apply(lambda x: 1 if x > 0 else 0)\n",
    "    df_new['hasbsmt'] = df_new['TotalBsmtSF'].apply(lambda x: 1 if x > 0 else 0)\n",
    "    df_new['hasfireplace'] = df_new['Fireplaces'].apply(lambda x: 1 if x > 0 else 0)\n",
    "    \n",
    "    return df_new\n",
    "\n",
    "\n",
    "data_all = combine_features(data_all)\n",
    "data_all = boolean_features(data_all)\n",
    "print(\"the shape of dataset is:{}\".format(data_all.shape))"
   ]
  },
  {
   "cell_type": "markdown",
   "metadata": {},
   "source": [
    "Now we perform feature transformations where we also check for distributions of numeric features and using boxcox tranformations to achieve normarlity in the features."
   ]
  },
  {
   "cell_type": "code",
   "execution_count": 576,
   "metadata": {},
   "outputs": [],
   "source": [
    "# feature transformations\n",
    "\n",
    "def transform_features(df):\n",
    "    df_new = df\n",
    "    # converting values to string\n",
    "    df_new['MSSubClass'] = df_new['MSSubClass'].apply(str)\n",
    "    df_new['YrSold'] = df_new['YrSold'].astype(str)\n",
    "    df_new['MoSold'] = df_new['MoSold'].astype(str)\n",
    "    df_new['YrBltAndRemod'] = df_new['YrBltAndRemod'].astype(str)\n",
    "    \n",
    "    numeric_features = list(df_new.select_dtypes(include=[np.number]).columns.values)\n",
    "    categ_features = list(df_new.select_dtypes(include=['object']).columns.values)\n",
    "    \n",
    "    # transform highly skewed numerical columns\n",
    "    skew_features = df_new[numeric_features].apply(lambda x: skew(x)).sort_values(ascending=False)\n",
    "    high_skew = skew_features[skew_features > 0.5]\n",
    "    skew_index = high_skew.index\n",
    "    for i in skew_index:\n",
    "        df_new[i] = boxcox1p(df_new[i], boxcox_normmax(df_new[i]+1))\n",
    "    \n",
    "    return df_new\n",
    "\n",
    "data_all = transform_features(data_all)"
   ]
  },
  {
   "cell_type": "markdown",
   "metadata": {},
   "source": [
    "We now scale all the numeric variables"
   ]
  },
  {
   "cell_type": "code",
   "execution_count": 483,
   "metadata": {},
   "outputs": [],
   "source": [
    "# Scaling all numerical variables\n",
    "\n",
    "def num_scaler(df):\n",
    "    df_new = df\n",
    "    numeric_features = list(df_new.select_dtypes(include=[np.number]).columns.values)\n",
    "    scaler = StandardScaler() # using library \n",
    "    for col in numeric_features:\n",
    "        df_new[[col]] = scaler.fit_transform(df_new[[col]])\n",
    "    \n",
    "    return df_new\n",
    "\n",
    "data_all = num_scaler(data_all)"
   ]
  },
  {
   "cell_type": "code",
   "execution_count": 577,
   "metadata": {},
   "outputs": [
    {
     "data": {
      "text/html": [
       "<div>\n",
       "<style scoped>\n",
       "    .dataframe tbody tr th:only-of-type {\n",
       "        vertical-align: middle;\n",
       "    }\n",
       "\n",
       "    .dataframe tbody tr th {\n",
       "        vertical-align: top;\n",
       "    }\n",
       "\n",
       "    .dataframe thead th {\n",
       "        text-align: right;\n",
       "    }\n",
       "</style>\n",
       "<table border=\"1\" class=\"dataframe\">\n",
       "  <thead>\n",
       "    <tr style=\"text-align: right;\">\n",
       "      <th></th>\n",
       "      <th>Total</th>\n",
       "      <th>Percent</th>\n",
       "    </tr>\n",
       "  </thead>\n",
       "  <tbody>\n",
       "    <tr>\n",
       "      <th>hasfireplace</th>\n",
       "      <td>0</td>\n",
       "      <td>0.0</td>\n",
       "    </tr>\n",
       "    <tr>\n",
       "      <th>Exterior1st</th>\n",
       "      <td>0</td>\n",
       "      <td>0.0</td>\n",
       "    </tr>\n",
       "    <tr>\n",
       "      <th>MasVnrType</th>\n",
       "      <td>0</td>\n",
       "      <td>0.0</td>\n",
       "    </tr>\n",
       "    <tr>\n",
       "      <th>MasVnrArea</th>\n",
       "      <td>0</td>\n",
       "      <td>0.0</td>\n",
       "    </tr>\n",
       "    <tr>\n",
       "      <th>ExterQual</th>\n",
       "      <td>0</td>\n",
       "      <td>0.0</td>\n",
       "    </tr>\n",
       "    <tr>\n",
       "      <th>...</th>\n",
       "      <td>...</td>\n",
       "      <td>...</td>\n",
       "    </tr>\n",
       "    <tr>\n",
       "      <th>GarageArea</th>\n",
       "      <td>0</td>\n",
       "      <td>0.0</td>\n",
       "    </tr>\n",
       "    <tr>\n",
       "      <th>GarageQual</th>\n",
       "      <td>0</td>\n",
       "      <td>0.0</td>\n",
       "    </tr>\n",
       "    <tr>\n",
       "      <th>GarageCond</th>\n",
       "      <td>0</td>\n",
       "      <td>0.0</td>\n",
       "    </tr>\n",
       "    <tr>\n",
       "      <th>PavedDrive</th>\n",
       "      <td>0</td>\n",
       "      <td>0.0</td>\n",
       "    </tr>\n",
       "    <tr>\n",
       "      <th>MSSubClass</th>\n",
       "      <td>0</td>\n",
       "      <td>0.0</td>\n",
       "    </tr>\n",
       "  </tbody>\n",
       "</table>\n",
       "<p>90 rows × 2 columns</p>\n",
       "</div>"
      ],
      "text/plain": [
       "              Total  Percent\n",
       "hasfireplace      0      0.0\n",
       "Exterior1st       0      0.0\n",
       "MasVnrType        0      0.0\n",
       "MasVnrArea        0      0.0\n",
       "ExterQual         0      0.0\n",
       "...             ...      ...\n",
       "GarageArea        0      0.0\n",
       "GarageQual        0      0.0\n",
       "GarageCond        0      0.0\n",
       "PavedDrive        0      0.0\n",
       "MSSubClass        0      0.0\n",
       "\n",
       "[90 rows x 2 columns]"
      ]
     },
     "execution_count": 577,
     "metadata": {},
     "output_type": "execute_result"
    }
   ],
   "source": [
    "# checking now if we have missing data\n",
    "\n",
    "missing_values_percentage(data_all)"
   ]
  },
  {
   "cell_type": "markdown",
   "metadata": {},
   "source": [
    "Therefore now, we have sucessfully handled missing data"
   ]
  },
  {
   "cell_type": "code",
   "execution_count": 578,
   "metadata": {},
   "outputs": [
    {
     "name": "stdout",
     "output_type": "stream",
     "text": [
      "Skewness: 0.121347\n"
     ]
    },
    {
     "data": {
      "image/png": "[encoded data removed]",
      "text/plain": [
       "<Figure size 432x288 with 1 Axes>"
      ]
     },
     "metadata": {
      "needs_background": "light"
     },
     "output_type": "display_data"
    }
   ],
   "source": [
    "# transforming target variable\n",
    "\n",
    "trans_y = np.log1p(train_y) # using log transformation to handle skewness\n",
    "\n",
    "# plotting transformed 'SalePrice'\n",
    "sns.distplot(trans_y , fit=norm);\n",
    "(mu, sigma) = norm.fit(trans_y)\n",
    "plt.title('Price (Log)');\n",
    "print(\"Skewness: %f\" % trans_y.skew())\n"
   ]
  },
  {
   "cell_type": "markdown",
   "metadata": {},
   "source": [
    "The data now looks more normally distributed with skewness significantly reduced by log transformation"
   ]
  },
  {
   "cell_type": "code",
   "execution_count": 579,
   "metadata": {},
   "outputs": [
    {
     "data": {
      "image/png": "[encoded data removed]",
      "text/plain": [
       "<Figure size 432x288 with 1 Axes>"
      ]
     },
     "metadata": {
      "needs_background": "light"
     },
     "output_type": "display_data"
    }
   ],
   "source": [
    "#  checking the outliers again\n",
    "\n",
    "sns.boxplot(y = trans_y)\n",
    "plt.ylabel('SalePrice (Log)')\n",
    "plt.title('Price');\n"
   ]
  },
  {
   "cell_type": "markdown",
   "metadata": {},
   "source": [
    "We have to geneate dummy variables for categorical data"
   ]
  },
  {
   "cell_type": "code",
   "execution_count": 580,
   "metadata": {},
   "outputs": [],
   "source": [
    "# Generating dummy variables\n",
    "\n",
    "def dummy_var(df):\n",
    "    df_new = df\n",
    "    df_new = pd.get_dummies(df_new)\n",
    "    return df_new\n",
    "\n",
    "data_all = dummy_var(data_all)"
   ]
  },
  {
   "cell_type": "code",
   "execution_count": 581,
   "metadata": {},
   "outputs": [
    {
     "name": "stdout",
     "output_type": "stream",
     "text": [
      "Total number of variables: 521.\n"
     ]
    }
   ],
   "source": [
    "print(\"Total number of variables: {}.\".format(data_all.shape[1]))"
   ]
  },
  {
   "cell_type": "code",
   "execution_count": 582,
   "metadata": {},
   "outputs": [],
   "source": [
    "# Removing those columns which have low variance\n",
    "\n",
    "def remv_overfit(df):\n",
    "    df_new = df\n",
    "    overfit = []\n",
    "    for i in df_new.columns:\n",
    "        counts = df_new[i].value_counts()\n",
    "        zeros = counts.iloc[0]\n",
    "        if zeros / len(df_new) * 100 > 99.9: # threshold is 99.9\n",
    "            overfit.append(i)\n",
    "    overfit = list(overfit)\n",
    "    \n",
    "    # keeping columns\n",
    "    try:\n",
    "        overfit.remove('Dataset_Train')\n",
    "        overfit.remove('Dataset_Test')\n",
    "    except:\n",
    "        pass\n",
    "    df_new.drop(overfit, axis=1, inplace=True)\n",
    "    \n",
    "    return df_new\n",
    "\n",
    "data_all = remv_overfit(data_all)"
   ]
  },
  {
   "cell_type": "code",
   "execution_count": 585,
   "metadata": {},
   "outputs": [
    {
     "name": "stdout",
     "output_type": "stream",
     "text": [
      "the shape of dataset now is: (2919, 477)\n"
     ]
    }
   ],
   "source": [
    "# checking the number of features now\n",
    "\n",
    "print(\"the shape of dataset now is: {}\".format(data_all.shape))"
   ]
  },
  {
   "cell_type": "markdown",
   "metadata": {},
   "source": [
    "3.3 Forming train and test datasets"
   ]
  },
  {
   "cell_type": "code",
   "execution_count": 491,
   "metadata": {},
   "outputs": [
    {
     "name": "stdout",
     "output_type": "stream",
     "text": [
      "(1460, 475)\n"
     ]
    }
   ],
   "source": [
    "# Training data is extracted\n",
    "\n",
    "data_train_trans = data_all[data_all['Dataset_Train']==1].copy()\n",
    "data_train_trans.drop(['Dataset_Train'], axis=1, inplace=True)\n",
    "data_train_trans.drop(['Dataset_Test'], axis=1, inplace=True)\n",
    "data_train_trans =data_train_trans.reset_index(drop=True) \n",
    "print(data_train_trans.shape)"
   ]
  },
  {
   "cell_type": "code",
   "execution_count": 584,
   "metadata": {},
   "outputs": [
    {
     "name": "stdout",
     "output_type": "stream",
     "text": [
      "(1459, 475)\n"
     ]
    }
   ],
   "source": [
    "# Testing data is extracted\n",
    "data_test_trans = data_all[data_all['Dataset_Test']==1].copy()\n",
    "data_test_trans.drop(['Dataset_Train'], axis=1, inplace=True)\n",
    "data_test_trans.drop(['Dataset_Test'], axis=1, inplace=True)\n",
    "data_test_trans = data_test_trans.reset_index(drop=True)\n",
    "print(data_test_trans.shape)"
   ]
  },
  {
   "cell_type": "markdown",
   "metadata": {},
   "source": [
    "Hence, finally we have 475 features using which we will perform regression"
   ]
  },
  {
   "cell_type": "markdown",
   "metadata": {},
   "source": [
    "## Linear Regression"
   ]
  },
  {
   "cell_type": "markdown",
   "metadata": {},
   "source": [
    "4.1 Fitting the model"
   ]
  },
  {
   "cell_type": "markdown",
   "metadata": {},
   "source": [
    "As intstructed, we will perform Linear Regression without the using any Machine Learning library. We will implement the gradient descent algorithm."
   ]
  },
  {
   "cell_type": "code",
   "execution_count": 630,
   "metadata": {},
   "outputs": [],
   "source": [
    "# Constructing the required matrices\n",
    "\n",
    "# Matrix containing our independent variables\n",
    "\n",
    "X = data_train_trans[:].values # filling with our features\n",
    "ones = np.ones([X.shape[0],1]) # first coefficient \n",
    "X = np.concatenate((ones,X),axis=1)\n",
    "\n",
    "# Matrix for target variable\n",
    "\n",
    "a = trans_y.to_frame() # series to dataframe\n",
    "y = a.values\n",
    "theta = np.zeros([1,476]) # assigning zeros initially\n",
    "\n",
    "# Tuning Parameters\n",
    "\n",
    "alpha = 0.03 # learning rate\n",
    "iters = 1000 # Number of iterations"
   ]
  },
  {
   "cell_type": "code",
   "execution_count": 631,
   "metadata": {},
   "outputs": [
    {
     "data": {
      "text/plain": [
       "72.36870333538452"
      ]
     },
     "execution_count": 631,
     "metadata": {},
     "output_type": "execute_result"
    }
   ],
   "source": [
    "# Defining our cost function\n",
    "\n",
    "def compute_cost(X,y,theta):\n",
    "    z = np.power(((X @ theta.T)-y),2)\n",
    "    return np.sum(z)/(2 * len(X))\n",
    "\n",
    "compute_cost(X,y,theta)"
   ]
  },
  {
   "cell_type": "markdown",
   "metadata": {},
   "source": [
    "Our initial value of cost function is given above. We attempt to minimize this cost."
   ]
  },
  {
   "cell_type": "markdown",
   "metadata": {},
   "source": [
    "We now perform gradient descent to minimize this cost"
   ]
  },
  {
   "cell_type": "code",
   "execution_count": 632,
   "metadata": {},
   "outputs": [
    {
     "name": "stdout",
     "output_type": "stream",
     "text": [
      "0.013681318556551454\n"
     ]
    }
   ],
   "source": [
    "# Defining function to perform gradient descent\n",
    "\n",
    "def gradient_descent(X,y,theta,iters,alpha):\n",
    "    cost = np.zeros(iters)\n",
    "    for i in range(iters):\n",
    "        theta = theta - (alpha/len(X)) * np.sum(X * (X @ theta.T - y), axis=0) # updating the parameters\n",
    "        cost[i] = compute_cost(X, y, theta) # computing cost\n",
    "    \n",
    "    return theta,cost\n",
    "\n",
    "# Executing\n",
    "\n",
    "param, cost = gradient_descent(X,y,theta,iters,alpha)\n",
    "minimized_cost = compute_cost(X,y,param)\n",
    "print(minimized_cost)"
   ]
  },
  {
   "cell_type": "markdown",
   "metadata": {},
   "source": [
    "The cost has been significantly minimized."
   ]
  },
  {
   "cell_type": "code",
   "execution_count": 633,
   "metadata": {},
   "outputs": [
    {
     "data": {
      "text/plain": [
       "Text(0, 0.5, 'Cost')"
      ]
     },
     "execution_count": 633,
     "metadata": {},
     "output_type": "execute_result"
    },
    {
     "data": {
      "image/png": "[encoded data removed]",
      "text/plain": [
       "<Figure size 432x288 with 1 Axes>"
      ]
     },
     "metadata": {
      "needs_background": "light"
     },
     "output_type": "display_data"
    }
   ],
   "source": [
    "# Plot\n",
    "fig, ax = plt.subplots()  \n",
    "ax.plot(np.arange(iters), cost, 'r')  \n",
    "ax.set_xlabel('number of iterations')  \n",
    "ax.set_ylabel('Cost') "
   ]
  },
  {
   "cell_type": "markdown",
   "metadata": {},
   "source": [
    "Therefore, we have successfully developed a linear model."
   ]
  },
  {
   "cell_type": "markdown",
   "metadata": {},
   "source": [
    "4.2 Calculating Accuracy"
   ]
  },
  {
   "cell_type": "code",
   "execution_count": 634,
   "metadata": {},
   "outputs": [
    {
     "name": "stdout",
     "output_type": "stream",
     "text": [
      "[0.16541656]\n",
      "[0.82839409]\n"
     ]
    }
   ],
   "source": [
    "# Evaluation metrics\n",
    "\n",
    "# Root mean squared error\n",
    "\n",
    "def rmse(true, estimated):\n",
    "    rmse = np.sqrt(sum((true - estimated) ** 2) / len(true))\n",
    "    return rmse\n",
    "\n",
    "# R squared\n",
    "def r2(true, estimated):\n",
    "    mean_true = np.mean(true)\n",
    "    ss_tot = sum((true - mean_true) ** 2)       # total sum of squares\n",
    "    ss_res = sum((true - estimated) ** 2)       # residual sum of squares\n",
    "    r2 = 1 - (ss_res / ss_tot)\n",
    "    return r2\n",
    "\n",
    "\n",
    "# Final estimated value of y\n",
    "\n",
    "estimated = X.dot(param.T) \n",
    "\n",
    "# the accuracy of the model\n",
    "\n",
    "print(rmse(y, estimated))\n",
    "print(r2(y, estimated))\n"
   ]
  },
  {
   "cell_type": "markdown",
   "metadata": {},
   "source": [
    "Therefore, our model is able to explain 82% of the variance in the data at the root mean squared error of 0.165"
   ]
  }
 ],
 "metadata": {
  "kernelspec": {
   "display_name": "Python 3",
   "language": "python",
   "name": "python3"
  },
  "language_info": {
   "codemirror_mode": {
    "name": "ipython",
    "version": 3
   },
   "file_extension": ".py",
   "mimetype": "text/x-python",
   "name": "python",
   "nbconvert_exporter": "python",
   "pygments_lexer": "ipython3",
   "version": "3.7.3"
  }
 },
 "nbformat": 4,
 "nbformat_minor": 2
}
